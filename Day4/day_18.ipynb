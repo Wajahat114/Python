{
 "cells": [
  {
   "cell_type": "code",
   "execution_count": 1,
   "metadata": {},
   "outputs": [],
   "source": [
    "import pandas as pd\n",
    "import numpy as np"
   ]
  },
  {
   "cell_type": "code",
   "execution_count": 3,
   "metadata": {},
   "outputs": [
    {
     "name": "stdout",
     "output_type": "stream",
     "text": [
      "Data without outliers: [2, 3, 4]\n"
     ]
    }
   ],
   "source": [
    "# Sample data\n",
    "data = [2, 3, 4, 30, 31, 32]\n",
    "\n",
    "# Set a threshold for identifying outliers\n",
    "threshold = 5# Remove outliers\n",
    "data_no_outliers = [x for x in data if x <= threshold]\n",
    "\n",
    "print(\"Data without outliers:\", data_no_outliers)"
   ]
  }
 ],
 "metadata": {
  "kernelspec": {
   "display_name": "python_dl",
   "language": "python",
   "name": "python3"
  },
  "language_info": {
   "codemirror_mode": {
    "name": "ipython",
    "version": 3
   },
   "file_extension": ".py",
   "mimetype": "text/x-python",
   "name": "python",
   "nbconvert_exporter": "python",
   "pygments_lexer": "ipython3",
   "version": "3.11.5"
  }
 },
 "nbformat": 4,
 "nbformat_minor": 2
}
