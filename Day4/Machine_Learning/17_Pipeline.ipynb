{
 "cells": [
  {
   "cell_type": "markdown",
   "metadata": {},
   "source": [
    "# Pipeline\n",
    "Pipeline is a data processing technique that allows you to transform data from one representation to another through a sequence of stages. Each stage is a transformation of the data, and the output of one stage is the input of the next stage."
   ]
  },
  {
   "cell_type": "code",
   "execution_count": 5,
   "metadata": {},
   "outputs": [],
   "source": [
    "import pandas as pd\n",
    "import numpy as np\n",
    "import seaborn as sns\n",
    "from sklearn.model_selection import train_test_split\n",
    "from sklearn.pipeline import Pipeline\n",
    "from sklearn.preprocessing import LabelEncoder, OneHotEncoder\n",
    "from sklearn.impute import SimpleImputer\n",
    "from sklearn.compose import ColumnTransformer\n",
    "from sklearn.ensemble import RandomForestClassifier\n",
    "from sklearn.metrics import accuracy_score, classification_report, confusion_matrix"
   ]
  },
  {
   "cell_type": "code",
   "execution_count": 6,
   "metadata": {},
   "outputs": [],
   "source": [
    "df=sns.load_dataset('titanic')\n",
    "\n",
    "X = df[['pclass','sex','age','fare','embarked']]\n",
    "y = df['survived']\n",
    "\n",
    "X_train, X_test, y_train, y_test = train_test_split(X, y, test_size=0.2, random_state=42)\n",
    "\n",
    "num_features = ['age', 'fare']\n",
    "cat_features = ['pclass','sex','embarked']\n",
    "\n",
    "num_trans = Pipeline(steps=[\n",
    "    ('imputer', SimpleImputer(strategy='median'))\n",
    "])\n",
    "cat_trans = Pipeline(steps=[\n",
    "    ('encoder', OneHotEncoder()),\n",
    "    ('imputer', SimpleImputer(strategy='most_frequent')),\n",
    "])\n",
    "\n",
    "preprocessor = ColumnTransformer(transformers=[\n",
    "    ('num',num_trans,num_features),\n",
    "    ('cat',cat_trans,cat_features)\n",
    "])"
   ]
  },
  {
   "cell_type": "code",
   "execution_count": 7,
   "metadata": {},
   "outputs": [
    {
     "name": "stdout",
     "output_type": "stream",
     "text": [
      "0.7877094972067039\n",
      "              precision    recall  f1-score   support\n",
      "\n",
      "           0       0.82      0.82      0.82       105\n",
      "           1       0.74      0.74      0.74        74\n",
      "\n",
      "    accuracy                           0.79       179\n",
      "   macro avg       0.78      0.78      0.78       179\n",
      "weighted avg       0.79      0.79      0.79       179\n",
      "\n",
      "[[86 19]\n",
      " [19 55]]\n"
     ]
    }
   ],
   "source": [
    "pipeline=Pipeline(steps=[('preprocessor',preprocessor),('classifier',RandomForestClassifier(random_state=42))])\n",
    "# fit the pipeline with the training data\n",
    "pipeline.fit(X_train, y_train)\n",
    "y_pred = pipeline.predict(X_test)\n",
    "print(accuracy_score(y_test, y_pred))\n",
    "print(classification_report(y_test, y_pred))\n",
    "print(confusion_matrix(y_test, y_pred))"
   ]
  },
  {
   "cell_type": "markdown",
   "metadata": {},
   "source": [
    "# Hyperparameter Tuning using Pipeline"
   ]
  },
  {
   "cell_type": "code",
   "execution_count": 8,
   "metadata": {},
   "outputs": [],
   "source": [
    "from sklearn.model_selection import GridSearchCV"
   ]
  },
  {
   "cell_type": "code",
   "execution_count": 13,
   "metadata": {},
   "outputs": [
    {
     "name": "stdout",
     "output_type": "stream",
     "text": [
      "{'model__max_depth': 10, 'model__min_samples_split': 10, 'model__n_estimators': 300}\n"
     ]
    }
   ],
   "source": [
    "X_train, X_val, y_train, y_val = train_test_split(X_train, y_train, test_size=0.2, random_state=42) \n",
    "\n",
    "pipeline = Pipeline([\n",
    "    ('Imputer',SimpleImputer(strategy='most_frequent')),\n",
    "    ('encoder',OneHotEncoder(handle_unknown='ignore')),\n",
    "    ('model',RandomForestClassifier(random_state=42))\n",
    "])\n",
    "# Define the hyperparameters to tune\n",
    "hyperparameters = {\n",
    "    'model__n_estimators': [100, 200, 300, 500],\n",
    "    'model__max_depth': [None, 5, 10, 30],\n",
    "    'model__min_samples_split': [2, 5, 10, 15]\n",
    "}\n",
    "grid=GridSearchCV(pipeline, hyperparameters, cv=5)\n",
    "grid.fit(X_train, y_train)\n",
    "print(grid.best_params_)"
   ]
  },
  {
   "cell_type": "code",
   "execution_count": 14,
   "metadata": {},
   "outputs": [
    {
     "name": "stdout",
     "output_type": "stream",
     "text": [
      "0.8493150684931506\n",
      "              precision    recall  f1-score   support\n",
      "\n",
      "           0       0.90      0.88      0.89        49\n",
      "           1       0.76      0.79      0.78        24\n",
      "\n",
      "    accuracy                           0.85        73\n",
      "   macro avg       0.83      0.83      0.83        73\n",
      "weighted avg       0.85      0.85      0.85        73\n",
      "\n",
      "[[43  6]\n",
      " [ 5 19]]\n"
     ]
    }
   ],
   "source": [
    "best_model = grid.best_estimator_\n",
    "y_pred = best_model.predict(X_val)\n",
    "print(accuracy_score(y_val, y_pred))\n",
    "print(classification_report(y_val, y_pred))\n",
    "print(confusion_matrix(y_val, y_pred))"
   ]
  },
  {
   "cell_type": "markdown",
   "metadata": {},
   "source": [
    "# Selecting best model in Pipeline"
   ]
  },
  {
   "cell_type": "code",
   "execution_count": 16,
   "metadata": {},
   "outputs": [],
   "source": [
    "from sklearn.ensemble import GradientBoostingClassifier\n",
    "from xgboost import XGBClassifier\n",
    "from sklearn.svm import SVC\n",
    "from sklearn.linear_model import LogisticRegression\n",
    "from sklearn.model_selection import cross_val_score"
   ]
  },
  {
   "cell_type": "code",
   "execution_count": 20,
   "metadata": {},
   "outputs": [
    {
     "name": "stdout",
     "output_type": "stream",
     "text": [
      "RandomForestClassifier Cross-Val accuracy: 0.8247808299240209\n",
      "RandomForestClassifier accuracy: 0.8212290502793296\n",
      "GradientBoostingClassifier Cross-Val accuracy: 0.8454120397428404\n",
      "GradientBoostingClassifier accuracy: 0.8100558659217877\n",
      "XGBClassifier Cross-Val accuracy: 0.8041496201052016\n",
      "XGBClassifier accuracy: 0.7653631284916201\n",
      "SVM Cross-Val accuracy: 0.821332554061952\n",
      "SVM accuracy: 0.7932960893854749\n",
      "LogisticReg Cross-Val accuracy: 0.8281706604324957\n",
      "LogisticReg accuracy: 0.8044692737430168\n",
      "Best model: RandomForestClassifier with accuracy: 0.8212290502793296\n"
     ]
    }
   ],
   "source": [
    "models = [\n",
    "    ('RandomForestClassifier',RandomForestClassifier(random_state=42)),\n",
    "    ('GradientBoostingClassifier',GradientBoostingClassifier(random_state=42)),\n",
    "    ('XGBClassifier',XGBClassifier(random_state=42)),\n",
    "    ('SVM',SVC(random_state=42)),\n",
    "    ('LogisticReg',LogisticRegression(random_state=42))\n",
    "]\n",
    "best_models = None\n",
    "best_accuracy = 0\n",
    "\n",
    "for name,model in models:\n",
    "    pipeline = Pipeline([\n",
    "        ('Imputer',SimpleImputer(strategy='most_frequent')),\n",
    "        ('encoder',OneHotEncoder(handle_unknown='ignore')),\n",
    "        ('model',model)\n",
    "    ])\n",
    "    score = cross_val_score(pipeline, X_train, y_train, cv=5)\n",
    "    mean_acc= score.mean()\n",
    "    pipeline.fit(X_train, y_train)\n",
    "    y_pred = pipeline.predict(X_test)\n",
    "    accuracy = accuracy_score(y_test, y_pred)\n",
    "    print(f\"{name} Cross-Val accuracy: {mean_acc}\")\n",
    "    print(f\"{name} accuracy: {accuracy}\")\n",
    "    #print(classification_report(y_test, y_pred))\n",
    "    if accuracy > best_accuracy:\n",
    "        best_accuracy = accuracy\n",
    "        best_model = pipeline\n",
    "        best_model_name = name\n",
    "print(f\"Best model: {best_model_name} with accuracy: {best_accuracy}\")"
   ]
  }
 ],
 "metadata": {
  "kernelspec": {
   "display_name": "python_ml",
   "language": "python",
   "name": "python3"
  },
  "language_info": {
   "codemirror_mode": {
    "name": "ipython",
    "version": 3
   },
   "file_extension": ".py",
   "mimetype": "text/x-python",
   "name": "python",
   "nbconvert_exporter": "python",
   "pygments_lexer": "ipython3",
   "version": "3.11.7"
  }
 },
 "nbformat": 4,
 "nbformat_minor": 2
}
