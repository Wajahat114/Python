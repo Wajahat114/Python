{
 "cells": [
  {
   "cell_type": "markdown",
   "metadata": {},
   "source": [
    "# CatBoost\n",
    "CatBoost is a high-performance open source library for gradient boosting on decision trees. It is developed by Yandex researchers and engineers, and is used for search, recommendation systems, personal assistant, self-driving cars, weather prediction and many other tasks at Yandex and in other companies, including CERN, Cloudflare, Careem taxi. It is in Python, and it is designed to be easy to use and install. It is also very fast and efficient. It is based on gradient boosting, a machine learning technique that is used to solve classification, regression, ranking, and other machine learning problems. It is a powerful and flexible algorithm that can be used for a wide range of tasks. It is also very easy to use and install. It is also very fast and efficient. It is based on gradient boosting, a machine learning technique that is used to solve classification, regression, ranking, and other machine learning problems. It is a powerful and flexible algorithm that can be used for a wide range of tasks. It is also very easy to use and install. It is also very fast and efficient. It is based on gradient boosting, a machine learning technique that is used to solve classification, regression, ranking, and other machine learning problems. It is a powerful and flexible algorithm that can be used for a wide range of tasks. It is also very easy to use and install. It is also very fast and efficient. It is based on gradient boosting, a machine learning technique that is used to solve classification, regression, ranking, and other machine learning problems. It is a powerful and flexible algorithm that can be used for a wide range of tasks. It is also very easy to use and install. It is also very fast and efficient. It is based on gradient boosting, a machine learning technique that is used to solve classification, regression, ranking, and other machine learning problems. It is a powerful and flexible algorithm that can be used for a wide range of tasks. It is also very easy to use and install. It is also very fast and efficient. It is based on gradient boosting, a machine learning technique that is used to solve classification, regression, ranking, and other machine learning problems. It is a powerful and flexible algorithm that can be used for a wide range of tasks. It is also very easy to use and install. It is also very fast and efficient. It is based on gradient boosting, a machine learning technique that is used to solve classification, regression, ranking, and other machine learning"
   ]
  },
  {
   "cell_type": "code",
   "execution_count": 1,
   "metadata": {},
   "outputs": [],
   "source": [
    "!pip install catboost -q"
   ]
  },
  {
   "cell_type": "code",
   "execution_count": 2,
   "metadata": {},
   "outputs": [],
   "source": [
    "import numpy as np\n",
    "import pandas as pd\n",
    "import matplotlib.pyplot as plt\n",
    "import seaborn as sns\n",
    "from catboost import CatBoostClassifier\n",
    "from sklearn.model_selection import train_test_split\n",
    "from sklearn.metrics import accuracy_score, confusion_matrix, classification_report, f1_score,precision_score,recall_score"
   ]
  },
  {
   "cell_type": "code",
   "execution_count": 3,
   "metadata": {},
   "outputs": [],
   "source": [
    "df= sns.load_dataset('titanic')"
   ]
  },
  {
   "cell_type": "code",
   "execution_count": 7,
   "metadata": {},
   "outputs": [],
   "source": [
    "from sklearn.impute import KNNImputer\n",
    "imputer = KNNImputer(n_neighbors=5)\n",
    "df['age'] = imputer.fit_transform(df[['age']])\n",
    "df['fare'] = imputer.fit_transform(df[['fare']])\n",
    "df['embarked'] = df['embarked'].fillna(df['embarked'].mode()[0])\n",
    "df['embark_town'] = df['embark_town'].fillna(df['embark_town'].mode()[0])\n",
    "df.drop(['deck','alive'],axis=1,inplace=True)"
   ]
  },
  {
   "cell_type": "code",
   "execution_count": 8,
   "metadata": {},
   "outputs": [],
   "source": [
    "categorical_columns = df.select_dtypes(include=['object','category']).columns\n",
    "df[categorical_columns] = df[categorical_columns].astype('category')"
   ]
  },
  {
   "cell_type": "code",
   "execution_count": 9,
   "metadata": {},
   "outputs": [],
   "source": [
    "X= df.drop('survived',axis=1)\n",
    "y= df['survived']\n",
    "X_train, X_test, y_train, y_test = train_test_split(X, y, test_size=0.2, random_state=42)"
   ]
  },
  {
   "cell_type": "code",
   "execution_count": 12,
   "metadata": {},
   "outputs": [],
   "source": [
    "# run the catboost classifier\n",
    "model = CatBoostClassifier(iterations=100, learning_rate=0.1, depth=3, loss_function='Logloss'\n",
    "                           ,eval_metric='Accuracy',use_best_model=True,random_seed=42\n",
    "                           ,verbose=False)"
   ]
  },
  {
   "cell_type": "code",
   "execution_count": 15,
   "metadata": {},
   "outputs": [],
   "source": [
    "model.fit(X_train, y_train, cat_features=categorical_columns.tolist(), eval_set=(X_test, y_test))\n",
    "y_pred = model.predict(X_test)"
   ]
  },
  {
   "cell_type": "code",
   "execution_count": 16,
   "metadata": {},
   "outputs": [
    {
     "name": "stdout",
     "output_type": "stream",
     "text": [
      "Accuracy: 0.8156424581005587\n",
      "F1 Score: 0.7659574468085106\n",
      "Precision: 0.8059701492537313\n",
      "Recall: 0.7297297297297297\n",
      "\n",
      "Confusion Matrix:\n",
      " [[92 13]\n",
      " [20 54]]\n",
      "\n",
      "Classification Report:\n",
      "               precision    recall  f1-score   support\n",
      "\n",
      "           0       0.82      0.88      0.85       105\n",
      "           1       0.81      0.73      0.77        74\n",
      "\n",
      "    accuracy                           0.82       179\n",
      "   macro avg       0.81      0.80      0.81       179\n",
      "weighted avg       0.82      0.82      0.81       179\n",
      "\n"
     ]
    }
   ],
   "source": [
    "print('Accuracy:', accuracy_score(y_test, y_pred))\n",
    "print('F1 Score:', f1_score(y_test, y_pred))\n",
    "print('Precision:', precision_score(y_test, y_pred))\n",
    "print('Recall:', recall_score(y_test, y_pred))\n",
    "print('\\nConfusion Matrix:\\n', confusion_matrix(y_test, y_pred))\n",
    "print('\\nClassification Report:\\n', classification_report(y_test, y_pred))"
   ]
  },
  {
   "cell_type": "code",
   "execution_count": null,
   "metadata": {},
   "outputs": [],
   "source": []
  },
  {
   "cell_type": "code",
   "execution_count": null,
   "metadata": {},
   "outputs": [],
   "source": []
  }
 ],
 "metadata": {
  "kernelspec": {
   "display_name": "python_ml",
   "language": "python",
   "name": "python3"
  },
  "language_info": {
   "codemirror_mode": {
    "name": "ipython",
    "version": 3
   },
   "file_extension": ".py",
   "mimetype": "text/x-python",
   "name": "python",
   "nbconvert_exporter": "python",
   "pygments_lexer": "ipython3",
   "version": "3.11.7"
  }
 },
 "nbformat": 4,
 "nbformat_minor": 2
}
