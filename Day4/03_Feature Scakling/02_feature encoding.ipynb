{
 "cells": [
  {
   "cell_type": "markdown",
   "metadata": {},
   "source": [
    "# Feature Encoding"
   ]
  },
  {
   "cell_type": "code",
   "execution_count": 1,
   "metadata": {},
   "outputs": [
    {
     "name": "stdout",
     "output_type": "stream",
     "text": [
      "   color\n",
      "0    Red\n",
      "1  Green\n",
      "2   Blue\n",
      "3    Red\n"
     ]
    }
   ],
   "source": [
    "import pandas as pd\n",
    "data = {'color': ['Red', 'Green','Blue','Red']}\n",
    "df=pd.DataFrame(data)\n",
    "print(df)"
   ]
  },
  {
   "cell_type": "code",
   "execution_count": 3,
   "metadata": {},
   "outputs": [
    {
     "name": "stdout",
     "output_type": "stream",
     "text": [
      "   color_Blue  color_Green  color_Red\n",
      "0       False        False       True\n",
      "1       False         True      False\n",
      "2        True        False      False\n",
      "3       False        False       True\n"
     ]
    }
   ],
   "source": [
    "#one hot encoding\n",
    "df_one_hot_encoded = pd.get_dummies(df, columns=['color'])\n",
    "print(df_one_hot_encoded)"
   ]
  },
  {
   "cell_type": "markdown",
   "metadata": {},
   "source": [
    "# 2. label Encoding"
   ]
  },
  {
   "cell_type": "code",
   "execution_count": 7,
   "metadata": {},
   "outputs": [
    {
     "name": "stdout",
     "output_type": "stream",
     "text": [
      "  animal\n",
      "0    cat\n",
      "1    cat\n",
      "2    dog\n",
      "3   fish\n",
      "4    dog\n",
      "5    cat\n",
      "6    dog\n",
      "7   fish\n"
     ]
    }
   ],
   "source": [
    "data={'animal':['cat','cat','dog','fish','dog','cat','dog','fish']}\n",
    "df=pd.DataFrame(data)\n",
    "print(df)"
   ]
  },
  {
   "cell_type": "code",
   "execution_count": 8,
   "metadata": {},
   "outputs": [],
   "source": [
    "from sklearn.preprocessing import LabelEncoder\n",
    "le=LabelEncoder()\n",
    "df['animal_enc']=le.fit_transform(df['animal'])"
   ]
  },
  {
   "cell_type": "code",
   "execution_count": 9,
   "metadata": {},
   "outputs": [
    {
     "name": "stdout",
     "output_type": "stream",
     "text": [
      "  animal  animal_enc\n",
      "0    cat           0\n",
      "1    cat           0\n",
      "2    dog           1\n",
      "3   fish           2\n",
      "4    dog           1\n",
      "5    cat           0\n",
      "6    dog           1\n",
      "7   fish           2\n"
     ]
    }
   ],
   "source": [
    "print(df)"
   ]
  },
  {
   "cell_type": "markdown",
   "metadata": {},
   "source": [
    "It encode in alphabetical order like \"c\" come first in alphabets before \"d\" and \"f\" that why cat is labeled as 0 and dog as 1 and fish as 2"
   ]
  },
  {
   "cell_type": "markdown",
   "metadata": {},
   "source": [
    "# 3. Ordinal Encoder"
   ]
  },
  {
   "cell_type": "code",
   "execution_count": 11,
   "metadata": {},
   "outputs": [
    {
     "name": "stdout",
     "output_type": "stream",
     "text": [
      "     size  size_enc\n",
      "0   small       0.0\n",
      "1  medium       1.0\n",
      "2   large       2.0\n",
      "3   small       0.0\n",
      "4   small       0.0\n"
     ]
    }
   ],
   "source": [
    "from sklearn.preprocessing import OrdinalEncoder\n",
    "oe=OrdinalEncoder(categories=[['small','medium','large']])\n",
    "data={'size':['small','medium','large','small','small']}\n",
    "df=pd.DataFrame(data)\n",
    "df['size_enc']=oe.fit_transform(df[['size']])\n",
    "print(df)\n"
   ]
  },
  {
   "cell_type": "code",
   "execution_count": null,
   "metadata": {},
   "outputs": [],
   "source": []
  }
 ],
 "metadata": {
  "kernelspec": {
   "display_name": "python_ml",
   "language": "python",
   "name": "python3"
  },
  "language_info": {
   "codemirror_mode": {
    "name": "ipython",
    "version": 3
   },
   "file_extension": ".py",
   "mimetype": "text/x-python",
   "name": "python",
   "nbconvert_exporter": "python",
   "pygments_lexer": "ipython3",
   "version": "3.11.7"
  }
 },
 "nbformat": 4,
 "nbformat_minor": 2
}
